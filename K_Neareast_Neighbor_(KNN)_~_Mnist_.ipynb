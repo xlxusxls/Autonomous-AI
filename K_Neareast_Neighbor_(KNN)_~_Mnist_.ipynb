{
  "nbformat": 4,
  "nbformat_minor": 0,
  "metadata": {
    "colab": {
      "provenance": [],
      "authorship_tag": "ABX9TyMY99tpJBguon82oIcvzyuw",
      "include_colab_link": true
    },
    "kernelspec": {
      "name": "python3",
      "display_name": "Python 3"
    },
    "language_info": {
      "name": "python"
    }
  },
  "cells": [
    {
      "cell_type": "markdown",
      "metadata": {
        "id": "view-in-github",
        "colab_type": "text"
      },
      "source": [
        "<a href=\"https://colab.research.google.com/github/xlxusxls/Autonomous-AI/blob/main/K_Neareast_Neighbor_(KNN)_~_Mnist_.ipynb\" target=\"_parent\"><img src=\"https://colab.research.google.com/assets/colab-badge.svg\" alt=\"Open In Colab\"/></a>"
      ]
    },
    {
      "cell_type": "markdown",
      "source": [
        "# KNN"
      ],
      "metadata": {
        "id": "5boWAHtKFvjG"
      }
    },
    {
      "cell_type": "markdown",
      "source": [
        "**1. data set 만들기**"
      ],
      "metadata": {
        "id": "-DeiUb7AyOIK"
      }
    },
    {
      "cell_type": "code",
      "source": [
        "# [x, y, type]\n",
        "\n",
        "dataset = [[2.7810836,2.550537003,0],\n",
        "\t[1.465489372,2.362125076,0],\n",
        "\t[3.396561688,4.400293529,0],\n",
        "\t[1.38807019,1.850220317,0],\n",
        "\t[3.06407232,3.005305973,0],\n",
        "\t[7.627531214,2.759262235,1],\n",
        "\t[5.332441248,2.088626775,1],\n",
        "\t[6.922596716,1.77106367,1],\n",
        "\t[8.675418651,-0.242068655,1],\n",
        "\t[7.673756466,3.508563011,1]]"
      ],
      "metadata": {
        "id": "NjiIj0RkyYTC"
      },
      "execution_count": 1,
      "outputs": []
    },
    {
      "cell_type": "markdown",
      "source": [
        "**2-1-1 거리 계산하기**\n",
        "\n",
        "KNN의 거리를 구하는 공식은 유클리드 거리 공식을 사용함"
      ],
      "metadata": {
        "id": "OmludzF5ydry"
      }
    },
    {
      "cell_type": "code",
      "source": [
        "from math import sqrt\n",
        "\n",
        "def euclidean_distance(row1, row2): # 유클리드 거리 공식 코드\n",
        "\tdistance = 0.0\n",
        "\tfor i in range(len(row1)-1):\n",
        "\t\tdistance += (row1[i] - row2[i])**2\n",
        "\treturn sqrt(distance)"
      ],
      "metadata": {
        "id": "yK1Ektezylnp"
      },
      "execution_count": 7,
      "outputs": []
    },
    {
      "cell_type": "markdown",
      "source": [
        "**2-1-2 거리가 정상적으로 계산되는지 확인하기**\n",
        "\n",
        "정의한 함수가 정상적으로 작동되는지 확인한다."
      ],
      "metadata": {
        "id": "qB72dkZiy9qN"
      }
    },
    {
      "cell_type": "code",
      "source": [
        "row0 = [3,3]\n",
        "for row in dataset:                           # row0은 새로들어온 데이터 이며 이 좌표와 DataSet에 있는 좌표간의 거리를 계산한다.\n",
        "\tdistance = euclidean_distance(row0, row)\n",
        "\tprint(distance)"
      ],
      "metadata": {
        "colab": {
          "base_uri": "https://localhost:8080/"
        },
        "id": "l8tYDe8IzPqy",
        "outputId": "b7aaae0b-ae96-4138-d24d-47b99fbe3eb5"
      },
      "execution_count": 8,
      "outputs": [
        {
          "output_type": "stream",
          "name": "stdout",
          "text": [
            "0.2189163999999999\n",
            "1.534510628\n",
            "0.3965616879999998\n",
            "1.61192981\n",
            "0.06407232000000018\n",
            "4.627531214\n",
            "2.3324412480000003\n",
            "3.922596716\n",
            "5.675418650999999\n",
            "4.673756466\n"
          ]
        }
      ]
    },
    {
      "cell_type": "markdown",
      "source": [
        "**2-2 가장 근처에 있는 요소 뽑기**\n",
        "\n",
        "train 변수는 데이터 셋, test_row는 측정하고자 하는 좌표, num_neighbors 변수가 K를 의미"
      ],
      "metadata": {
        "id": "qt6G0YoizTap"
      }
    },
    {
      "cell_type": "code",
      "source": [
        "def get_neighbors(train, test_row, num_neighbors):\n",
        "\tdistances = list()\n",
        "\tfor train_row in train:\n",
        "\t\tdist = euclidean_distance(test_row, train_row) # 거리 측정\n",
        "\t\tdistances.append((train_row, dist))\n",
        "\tdistances.sort(key=lambda tup: tup[1])\n",
        "\tneighbors = list()\n",
        "\tfor i in range(num_neighbors):\n",
        "\t\tneighbors.append(distances[i][0])\n",
        "\treturn neighbors"
      ],
      "metadata": {
        "id": "RLiIl0EFzjj-"
      },
      "execution_count": 39,
      "outputs": []
    },
    {
      "cell_type": "code",
      "source": [
        "neighbors = get_neighbors(dataset, row0, 7)\n",
        "for neighbor in neighbors:\n",
        "\tprint(neighbor)"
      ],
      "metadata": {
        "colab": {
          "base_uri": "https://localhost:8080/"
        },
        "id": "LrjHgryuz6tP",
        "outputId": "b04596e6-f6f7-4c74-f465-e3afb5aa36bd"
      },
      "execution_count": 41,
      "outputs": [
        {
          "output_type": "stream",
          "name": "stdout",
          "text": [
            "[3.06407232, 3.005305973, 0]\n",
            "[2.7810836, 2.550537003, 0]\n",
            "[3.396561688, 4.400293529, 0]\n",
            "[1.465489372, 2.362125076, 0]\n",
            "[1.38807019, 1.850220317, 0]\n",
            "[5.332441248, 2.088626775, 1]\n",
            "[6.922596716, 1.77106367, 1]\n"
          ]
        }
      ]
    },
    {
      "cell_type": "markdown",
      "source": [
        "아래와 같이 출력되면 정상적으로 작동이 된 것이다.\n",
        "\n",
        "[3.06407232, 3.005305973, 0]\n",
        "\n",
        "[2.7810836, 2.550537003, 0]\n",
        "\n",
        "[3.396561688, 4.400293529, 0]\n",
        "\n",
        "[1.465489372, 2.362125076, 0]\n",
        "\n",
        "[1.38807019, 1.850220317, 0]\n",
        "\n",
        "[5.332441248, 2.088626775, 1]\n",
        "\n",
        "[6.922596716, 1.77106367, 1]"
      ],
      "metadata": {
        "id": "LSndKBwd0CuM"
      }
    },
    {
      "cell_type": "markdown",
      "source": [
        "**2-3 예측하기**"
      ],
      "metadata": {
        "id": "t3XyUm7OypyK"
      }
    },
    {
      "cell_type": "code",
      "source": [
        "# neighbor에 따라 분류 예측을 한다.\n",
        "\n",
        "def predict_classification(train, test_row, num_neighbors):\n",
        "\tneighbors = get_neighbors(train, test_row, num_neighbors)\n",
        "\tfor neighbor in neighbors:\n",
        "\t\tprint(neighbor)\n",
        "\toutput_values = [row[-1] for row in neighbors]\n",
        "\tprediction = max(set(output_values), key=output_values.count)\n",
        "\treturn prediction"
      ],
      "metadata": {
        "id": "UXR6CjLe0RKT"
      },
      "execution_count": 44,
      "outputs": []
    },
    {
      "cell_type": "markdown",
      "source": [
        "**row0 = [3,3,0]인 경우**\n",
        "\n",
        "row0 은 새로 들어온 데이터를 의미함\n",
        "\n",
        "- 3: x 좌표\n",
        "\n",
        "- 3: y 좌표\n",
        "\n",
        "- 0: 실제 클래스(label) 값 (여기서는 0)"
      ],
      "metadata": {
        "id": "dsop5XCq1CPA"
      }
    },
    {
      "cell_type": "code",
      "source": [
        "row0 = [3,3,0]\n",
        "\n",
        "prediction = predict_classification(dataset, row0, 7)\n",
        "print('Expected %d, Got %d.' % (row0[-1], prediction))"
      ],
      "metadata": {
        "colab": {
          "base_uri": "https://localhost:8080/"
        },
        "id": "7U5eb6ly0lvM",
        "outputId": "1cc740d0-6192-42c2-d855-c7d3f69b4d81"
      },
      "execution_count": 45,
      "outputs": [
        {
          "output_type": "stream",
          "name": "stdout",
          "text": [
            "[3.06407232, 3.005305973, 0]\n",
            "[2.7810836, 2.550537003, 0]\n",
            "[3.396561688, 4.400293529, 0]\n",
            "[1.465489372, 2.362125076, 0]\n",
            "[1.38807019, 1.850220317, 0]\n",
            "[5.332441248, 2.088626775, 1]\n",
            "[6.922596716, 1.77106367, 1]\n",
            "Expected 0, Got 0.\n"
          ]
        }
      ]
    },
    {
      "cell_type": "markdown",
      "source": [
        "**row0 = [6,5,0]인 경우**"
      ],
      "metadata": {
        "id": "bpAAtj4_1MAv"
      }
    },
    {
      "cell_type": "code",
      "source": [
        "row0 = [6,5,0]\n",
        "\n",
        "prediction = predict_classification(dataset, row0, 7)\n",
        "print('Expected %d, Got %d.' % (row0[-1], prediction))"
      ],
      "metadata": {
        "colab": {
          "base_uri": "https://localhost:8080/"
        },
        "id": "98mQsOe90qvk",
        "outputId": "48256e43-ab2a-42f9-ad66-51e5305990cf"
      },
      "execution_count": 46,
      "outputs": [
        {
          "output_type": "stream",
          "name": "stdout",
          "text": [
            "[7.673756466, 3.508563011, 1]\n",
            "[3.396561688, 4.400293529, 0]\n",
            "[7.627531214, 2.759262235, 1]\n",
            "[5.332441248, 2.088626775, 1]\n",
            "[6.922596716, 1.77106367, 1]\n",
            "[3.06407232, 3.005305973, 0]\n",
            "[2.7810836, 2.550537003, 0]\n",
            "Expected 0, Got 1.\n"
          ]
        }
      ]
    },
    {
      "cell_type": "markdown",
      "source": [
        "# K-Means"
      ],
      "metadata": {
        "id": "chKz4pAzFOLQ"
      }
    },
    {
      "cell_type": "markdown",
      "source": [
        "**1. 데이터 생성하기**"
      ],
      "metadata": {
        "id": "ltuVxKF8F4uM"
      }
    },
    {
      "cell_type": "code",
      "source": [
        "import numpy as np\n",
        "import matplotlib.pyplot as plt\n",
        "from sklearn.cluster import KMeans\n",
        "from sklearn.datasets import make_blobs\n",
        "%matplotlib inline\n",
        "\n",
        "# 테스트 데이터 생성\n",
        "X, y = make_blobs(n_samples=200, n_features=2, centers=3, cluster_std=0.8, random_state=0)\n",
        "print(X.shape, y.shape)\n",
        "\n",
        "# y target 값의 분포를 확인\n",
        "unique, counts = np.unique(y, return_counts=True)\n",
        "print(unique,counts)"
      ],
      "metadata": {
        "colab": {
          "base_uri": "https://localhost:8080/"
        },
        "id": "wtA9uH6HFdBe",
        "outputId": "9a588c7e-dba8-45a1-b1ed-a1e3a9340e3c"
      },
      "execution_count": 49,
      "outputs": [
        {
          "output_type": "stream",
          "name": "stdout",
          "text": [
            "(200, 2) (200,)\n",
            "[0 1 2] [67 67 66]\n"
          ]
        }
      ]
    },
    {
      "cell_type": "markdown",
      "source": [
        "**2. 클러스터링 진행**"
      ],
      "metadata": {
        "id": "QrP-YOWbGC53"
      }
    },
    {
      "cell_type": "code",
      "source": [
        "# DataFrame에 적용\n",
        "import pandas as pd\n",
        "clusterDF = pd.DataFrame(data=X, columns=['ftr1', 'ftr2'])\n",
        "clusterDF['target'] = y\n",
        "\n",
        "target_list = np.unique(y)\n",
        "# 각 target별 scatter plot 의 marker 값들.\n",
        "markers=['o', 's', '^', 'P','D','H','x']\n",
        "# 3개의 cluster 영역으로 구분한 데이터 셋을 생성했으므로 target_list는 [0,1,2]\n",
        "# target==0, target==1, target==2 로 scatter plot을 marker별로 생성.\n",
        "for target in target_list:\n",
        "    target_cluster = clusterDF[clusterDF['target']==target]\n",
        "    plt.scatter(x=target_cluster['ftr1'], y=target_cluster['ftr2'], edgecolor='k', marker=markers[target] )\n",
        "\n",
        "plt.show()"
      ],
      "metadata": {
        "colab": {
          "base_uri": "https://localhost:8080/",
          "height": 430
        },
        "id": "OaDW6AaMFhfU",
        "outputId": "79d080b9-72c1-4e7f-c30e-f0f8b7c80a39"
      },
      "execution_count": 50,
      "outputs": [
        {
          "output_type": "display_data",
          "data": {
            "text/plain": [
              "<Figure size 640x480 with 1 Axes>"
            ],
            "image/png": "[encoded data removed]"
          },
          "metadata": {}
        }
      ]
    },
    {
      "cell_type": "code",
      "source": [
        "# KMeans 객체를 이용하여 X 데이터를 K-Means 클러스터링 수행\n",
        "kmeans = KMeans(n_clusters=3, init='k-means++', max_iter=200, random_state=0)\n",
        "cluster_labels = kmeans.fit_predict(X)\n",
        "clusterDF['kmeans_label']  = cluster_labels\n",
        "\n",
        "#cluster_centers_ 는 개별 클러스터의 중심 위치 좌표 시각화를 위해 추출\n",
        "centers = kmeans.cluster_centers_\n",
        "unique_labels = np.unique(cluster_labels)\n",
        "markers=['o', 's', '^', 'P','D','H','x']\n",
        "\n",
        "# 군집된 label 유형별로 iteration 하면서 marker 별로 scatter plot 수행.\n",
        "for label in unique_labels:\n",
        "    label_cluster = clusterDF[clusterDF['kmeans_label']==label]\n",
        "    center_x_y = centers[label]\n",
        "    plt.scatter(x=label_cluster['ftr1'], y=label_cluster['ftr2'], edgecolor='k',\n",
        "                marker=markers[label] )\n",
        "\n",
        "    # 군집별 중심 위치 좌표 시각화\n",
        "    plt.scatter(x=center_x_y[0], y=center_x_y[1], s=200, color='white',\n",
        "                alpha=0.9, edgecolor='k', marker=markers[label])\n",
        "    plt.scatter(x=center_x_y[0], y=center_x_y[1], s=70, color='k', edgecolor='k',\n",
        "                marker='$%d$' % label)\n",
        "\n",
        "plt.show()\n",
        "\n",
        "print(clusterDF.groupby('target')['kmeans_label'].value_counts())\n"
      ],
      "metadata": {
        "colab": {
          "base_uri": "https://localhost:8080/",
          "height": 557
        },
        "id": "m31nyjwwFjt5",
        "outputId": "302af362-1e9c-4831-f0ab-f149c2c958fb"
      },
      "execution_count": 51,
      "outputs": [
        {
          "output_type": "display_data",
          "data": {
            "text/plain": [
              "<Figure size 640x480 with 1 Axes>"
            ],
            "image/png": "[encoded data removed]"
          },
          "metadata": {}
        },
        {
          "output_type": "stream",
          "name": "stdout",
          "text": [
            "target  kmeans_label\n",
            "0       2               66\n",
            "        1                1\n",
            "1       0               67\n",
            "2       1               65\n",
            "        0                1\n",
            "Name: count, dtype: int64\n"
          ]
        }
      ]
    },
    {
      "cell_type": "markdown",
      "source": [
        "# Perceptron"
      ],
      "metadata": {
        "id": "3DOVLV3kH1cx"
      }
    },
    {
      "cell_type": "markdown",
      "source": [
        "**OR 분류 문제에 대한 코드를 작성**"
      ],
      "metadata": {
        "id": "mFUGroCLIlBK"
      }
    },
    {
      "cell_type": "markdown",
      "source": [
        "**1. 데이터 생성**"
      ],
      "metadata": {
        "id": "zesDThQNJKs5"
      }
    },
    {
      "cell_type": "code",
      "source": [
        "import numpy as np\n",
        "\n",
        "X = np.array([[0,0], [1,0], [0,1], [1,1]])\n",
        "Y = np.array([-1,1,1,1])"
      ],
      "metadata": {
        "id": "bMWotgS2IGW4"
      },
      "execution_count": 58,
      "outputs": []
    },
    {
      "cell_type": "markdown",
      "source": [
        "**2.[bias, w1, w2] = weight과 bias는 1로 초기화**"
      ],
      "metadata": {
        "id": "2u8werK9JPni"
      }
    },
    {
      "cell_type": "code",
      "source": [
        "w=np.array([1. , 1. , 1.])"
      ],
      "metadata": {
        "id": "n8KVnga-JFbG"
      },
      "execution_count": 59,
      "outputs": []
    },
    {
      "cell_type": "markdown",
      "source": [
        "**3.함수를 업데이트 하고 학습 전후를 비교**"
      ],
      "metadata": {
        "id": "7_A0SEV6JTo6"
      }
    },
    {
      "cell_type": "code",
      "source": [
        "def forward(x):\n",
        "  return np.dot(x, w[1:]) + w[0]\n",
        "\n",
        "def predict(X):            # 퍼셉트론의 전방 계산을 하는 forward 함수, 부류를 예측하는 predict 함수\n",
        "  return np.where(forward(X) > 0, 1, -1)\n",
        "\n",
        "print(\"predict (before traning)\", w)\n",
        "\n",
        "for epoch in range(50):\n",
        "  for x_val, y_val in zip(X, Y):\n",
        "    update = 0.01 * (y_val - predict(x_val))\n",
        "    w[1:] += update * x_val\n",
        "    w[0] += update\n",
        "\n",
        "print(\"predict (after traning)\", w)"
      ],
      "metadata": {
        "colab": {
          "base_uri": "https://localhost:8080/"
        },
        "id": "xIQmXKagJHCc",
        "outputId": "393a6bb6-b41a-464a-ec1d-bccc510ee73d"
      },
      "execution_count": 60,
      "outputs": [
        {
          "output_type": "stream",
          "name": "stdout",
          "text": [
            "predict (before traning) [1. 1. 1.]\n",
            "predict (after traning) [-6.17561557e-16  1.00000000e+00  1.00000000e+00]\n"
          ]
        }
      ]
    }
  ]
}